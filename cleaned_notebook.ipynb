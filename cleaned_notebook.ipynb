{
  "cells": [
    {
      "cell_type": "markdown",
      "metadata": {
        "id": "Nn7YVjyWevoz"
      },
      "source": [
        "## Импорт необходимых библиотек"
      ]
    },
    {
      "cell_type": "code",
      "source": [
        "#!pip install ultralytics kagglehub\n",
        "\n",
        "import os\n",
        "import zipfile\n",
        "import shutil\n",
        "import kagglehub\n",
        "import numpy as np\n",
        "import pandas as pd\n",
        "import matplotlib.pyplot as plt\n",
        "from PIL import Image\n",
        "from ultralytics import YOLO\n",
        "import logging\n",
        "import shutil\n",
        "from ultralytics import YOLO\n",
        "logging.basicConfig(level=logging.INFO, format='%(asctime)s - %(levelname)s - %(message)s')\n",
        "import torch\n"
      ],
      "metadata": {
        "collapsed": true,
        "id": "6gC4qnnPU04-"
      },
      "execution_count": 46,
      "outputs": []
    },
    {
      "cell_type": "markdown",
      "metadata": {
        "id": "4px8JlQGknPt"
      },
      "source": [
        "## Импорт данных"
      ]
    },
    {
      "cell_type": "code",
      "execution_count": null,
      "metadata": {
        "id": "Q7aycpjgLcOW",
        "collapsed": true
      },
      "outputs": [],
      "source": [
        "shreyj1729_cctv_fights_dataset_path = kagglehub.dataset_download(\n",
        "    'shreyj1729/cctv-fights-dataset')\n",
        "gusevoleg_fightsimages_path = kagglehub.dataset_download(\n",
        "    'gusevoleg/fightsimages')\n",
        "\n",
        "print('Data source import complete.')"
      ]
    },
    {
      "cell_type": "code",
      "execution_count": null,
      "metadata": {
        "id": "rKsMBHA_liI4",
        "collapsed": true
      },
      "outputs": [],
      "source": [
        "!kaggle datasets download -d shreyj1729/cctv-fights-dataset -p /content/"
      ]
    },
    {
      "cell_type": "code",
      "execution_count": null,
      "metadata": {
        "collapsed": true,
        "id": "DIRLASiRrdBl"
      },
      "outputs": [],
      "source": [
        "# Распаковка архива с данными\n",
        "!unzip /content/cctv-fights-dataset.zip -d /content/cctv-fights-dataset"
      ]
    },
    {
      "cell_type": "code",
      "execution_count": null,
      "metadata": {
        "collapsed": true,
        "id": "aAfvedWqrU9v"
      },
      "outputs": [],
      "source": [
        "# Распаковка архива с данными\n",
        "!unzip /content/violence_maksad.v3-15k.yolov11.zip -d /content/fightsimages/"
      ]
    },
    {
      "cell_type": "code",
      "execution_count": null,
      "metadata": {
        "collapsed": true,
        "id": "XOFXW3vZ0HaQ"
      },
      "outputs": [],
      "source": [
        "for dirname, _, filenames in os.walk('/content/cctv-fights-dataset'):\n",
        "    for filename in filenames:\n",
        "        print(os.path.join(dirname, filename))"
      ]
    },
    {
      "cell_type": "code",
      "execution_count": null,
      "metadata": {
        "collapsed": true,
        "id": "LSXYlS5revo1"
      },
      "outputs": [],
      "source": [
        "for dirname, _, filenames in os.walk('/content/fightsimages'):\n",
        "    for filename in filenames:\n",
        "        print(os.path.join(dirname, filename))"
      ]
    },
    {
      "cell_type": "markdown",
      "source": [
        "## Моделирование"
      ],
      "metadata": {
        "id": "pFAYa9YucM28"
      }
    },
    {
      "cell_type": "code",
      "source": [
        "logging.basicConfig(level=logging.INFO, format='%(asctime)s - %(levelname)s - %(message)s')\n",
        "\n",
        "data_path = '/content/fightsimages/full/data.yaml'\n",
        "test_data_path = '/content/fightsimages/full/test/images'\n",
        "epochs = 50\n",
        "batch_size = 16\n",
        "\n",
        "device = 'cuda' if torch.cuda.is_available() else 'cpu'\n",
        "try:\n",
        "    logging.info(\"Инициализация и запуск обучения модели YOLO...\")\n",
        "    model = YOLO('yolov8n.yaml')\n",
        "    model.train(\n",
        "        data=data_path,\n",
        "        epochs=epochs,\n",
        "        batch=batch_size,\n",
        "        imgsz=640,\n",
        "        project='runs/detect/fight_detection_full',\n",
        "        name='fight_detection_model_full',\n",
        "        pretrained=True,\n",
        "        device=device\n",
        "    )\n",
        "    logging.info(\"Обучение модели завершено.\")\n",
        "except Exception as e:\n",
        "    logging.error(f\"Ошибка во время обучения: {e}\")\n",
        "\n",
        "# Запуск TensorBoard в отдельной ячейке/терминале:\n",
        "# !tensorboard --logdir=runs/detect/fight_detection_full\n",
        "\n"
      ],
      "metadata": {
        "id": "o_v4ZVNv4VJv"
      },
      "execution_count": null,
      "outputs": []
    },
    {
      "cell_type": "markdown",
      "source": [
        "## Тестирование"
      ],
      "metadata": {
        "id": "k5PisvA2T_kE"
      }
    },
    {
      "cell_type": "code",
      "source": [
        "model = YOLO('runs/detect/fight_detection_full/fight_detection_model_full/weights/best.pt')\n",
        "\n",
        "test_data_path = '/content/fightsimages/full/test/images'\n",
        "\n",
        "results = model.predict(\n",
        "    source=test_data_path,\n",
        "    save=True,\n",
        "    save_txt=True,\n",
        "    save_conf=True,\n",
        "    conf=0.5,\n",
        "    iou=0.45,\n",
        "    project='runs/detect/test_results',\n",
        "    name='test_run'\n",
        ")\n",
        "\n",
        "\n",
        "for result in results:\n",
        "    print(f\"Image: {result.path}\")\n",
        "    print(\"Predictions:\", result.boxes.xywh)\n",
        "    print(\"Confidence scores:\", result.boxes.conf)\n",
        "    print(\"Classes:\", result.boxes.cls)\n"
      ],
      "metadata": {
        "id": "96pVI_14UCvc"
      },
      "execution_count": null,
      "outputs": []
    },
    {
      "cell_type": "markdown",
      "source": [
        "## Выгрузка результатов"
      ],
      "metadata": {
        "id": "2xLMw7tJb3KJ"
      }
    },
    {
      "cell_type": "code",
      "source": [
        "try:\n",
        "    for result in results:\n",
        "        logging.info(f\"Image: {result.path}\")\n",
        "        logging.info(\"Predictions (xywh):\")\n",
        "        logging.info(result.boxes.xywh)\n",
        "        logging.info(\"Confidence scores:\")\n",
        "        logging.info(result.boxes.conf)\n",
        "        logging.info(\"Classes:\")\n",
        "        logging.info(result.boxes.cls)\n",
        "except Exception as e:\n",
        "    logging.error(f\"Ошибка при выводе результатов: {e}\")\n",
        "\n",
        "\n",
        "try:\n",
        "    results_folder = 'runs/detect/test_results/test_run'\n",
        "    shutil.make_archive('test_results', 'zip', results_folder)\n",
        "    logging.info(\"Архив с результатами тестирования успешно создан: test_results.zip\")\n",
        "except Exception as e:\n",
        "    logging.error(f\"Ошибка при создании архива: {e}\")\n"
      ],
      "metadata": {
        "id": "HfkRUI64USp1"
      },
      "execution_count": null,
      "outputs": []
    },
    {
      "cell_type": "code",
      "source": [],
      "metadata": {
        "id": "Guczk90fZpbA"
      },
      "execution_count": null,
      "outputs": []
    }
  ],
  "metadata": {
    "colab": {
      "provenance": []
    },
    "hide_input": false,
    "kaggle": {
      "accelerator": "none",
      "dataSources": [
        {
          "datasetId": 890079,
          "sourceId": 1542611,
          "sourceType": "datasetVersion"
        },
        {
          "datasetId": 5941187,
          "sourceId": 9712572,
          "sourceType": "datasetVersion"
        }
      ],
      "dockerImageVersionId": 30786,
      "isGpuEnabled": false,
      "isInternetEnabled": false,
      "language": "python",
      "sourceType": "notebook"
    },
    "kernelspec": {
      "display_name": "Python 3 (ipykernel)",
      "language": "python",
      "name": "python3"
    },
    "language_info": {
      "codemirror_mode": {
        "name": "ipython",
        "version": 3
      },
      "file_extension": ".py",
      "mimetype": "text/x-python",
      "name": "python",
      "nbconvert_exporter": "python",
      "pygments_lexer": "ipython3",
      "version": "3.11.4"
    },
    "toc": {
      "base_numbering": 1,
      "nav_menu": {},
      "number_sections": true,
      "sideBar": true,
      "skip_h1_title": false,
      "title_cell": "Table of Contents",
      "title_sidebar": "Contents",
      "toc_cell": false,
      "toc_position": {
        "height": "calc(100% - 180px)",
        "left": "10px",
        "top": "150px",
        "width": "249.390625px"
      },
      "toc_section_display": true,
      "toc_window_display": false
    }
  },
  "nbformat": 4,
  "nbformat_minor": 0
}